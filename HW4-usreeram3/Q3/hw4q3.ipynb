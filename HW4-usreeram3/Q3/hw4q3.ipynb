{
 "cells": [
  {
   "cell_type": "markdown",
   "metadata": {},
   "source": [
    "# Q3 Using Scikit-Learn"
   ]
  },
  {
   "cell_type": "code",
   "execution_count": 2,
   "metadata": {},
   "outputs": [],
   "source": [
    "import numpy as np\n",
    "import pandas as pd\n",
    "import time\n",
    "import gc\n",
    "\n",
    "from sklearn.model_selection import cross_val_score, GridSearchCV, cross_validate, train_test_split\n",
    "from sklearn.metrics import accuracy_score, classification_report\n",
    "from sklearn.svm import SVC\n",
    "from sklearn.linear_model import LinearRegression\n",
    "from sklearn.neural_network import MLPClassifier\n",
    "from sklearn.ensemble import RandomForestClassifier\n",
    "from sklearn.preprocessing import StandardScaler, normalize\n",
    "from sklearn.decomposition import PCA\n",
    "# Import statements run before running other code cells"
   ]
  },
  {
   "cell_type": "markdown",
   "metadata": {},
   "source": [
    "# Classifier Setup"
   ]
  },
  {
   "cell_type": "code",
   "execution_count": 3,
   "metadata": {},
   "outputs": [],
   "source": [
    "# XXX\n",
    "# TODO: Read in all the data. Replace the 'xxx' with the path to the data set.\n",
    "# XXX\n",
    "\n",
    "# data = pd.read_csv('xxx')\n",
    "\n",
    "# Separate out the x_data and y_data.\n",
    "# x_data = data.loc[:, data.columns != \"y\"]\n",
    "# y_data = data.loc[:, \"y\"]\n",
    "\n",
    "# -------------------------------\n",
    "# ADD CODE HERE\n",
    "data = pd.read_csv('pulsar_stars.csv')\n",
    "\n",
    "x_data = data.loc[:, data.columns != \"y\"]\n",
    "y_data = data.loc[:, \"y\"]\n",
    "\n",
    "# -------------------------------"
   ]
  },
  {
   "cell_type": "code",
   "execution_count": 5,
   "metadata": {},
   "outputs": [],
   "source": [
    "# The random state to use while splitting the data.\n",
    "random_state = 100\n",
    "\n",
    "# XXX\n",
    "# TODO: Split 70% of the data into training and 30% into test sets. Call them x_train, x_test, y_train and y_test.\n",
    "# Use the train_test_split method in sklearn with the parameter 'shuffle' set to true and the 'random_state' set to 100.\n",
    "# XXX\n",
    "\n",
    "# -------------------------------\n",
    "# ADD CODE HERE\n",
    "x_train, x_test, y_train, y_test = train_test_split(x_data, y_data, test_size=0.3, random_state= random_state, shuffle = True)\n",
    "\n",
    "# -------------------------------"
   ]
  },
  {
   "cell_type": "markdown",
   "metadata": {},
   "source": [
    "# Linear Regression "
   ]
  },
  {
   "cell_type": "code",
   "execution_count": 6,
   "metadata": {},
   "outputs": [],
   "source": [
    "# XXX\n",
    "# TODO: Create a LinearRegression classifier and train it.\n",
    "# XXX\n",
    "\n",
    "# -------------------------------\n",
    "# ADD CODE HERE\n",
    "lr_model = LinearRegression().fit(x_train,y_train)\n",
    "lr_pred_train=lr_model.predict(x_train)\n",
    "lr_pred_test=lr_model.predict(x_test)\n",
    "\n",
    "# -------------------------------\n",
    "\n"
   ]
  },
  {
   "cell_type": "code",
   "execution_count": 7,
   "metadata": {},
   "outputs": [
    {
     "name": "stdout",
     "output_type": "stream",
     "text": [
      "0.970705619412516\n"
     ]
    }
   ],
   "source": [
    "# XXX\n",
    "# TODO: Test its accuracy (on the training set) using the accuracy_score method.\n",
    "# Note: Round the output values greater than or equal to 0.5 to 1 and those less than 0.5 to 0. You can use any method that satisfies the requriements.\n",
    "# XXX\n",
    "\n",
    "# -------------------------------\n",
    "# ADD CODE HERE\n",
    "vfunc = np.vectorize(lambda x: 1 if x>=0.5 else 0)\n",
    "lr_pred_train=vfunc(lr_pred_train)\n",
    "\n",
    "\n",
    "accuracy_train=accuracy_score(y_train,lr_pred_train,normalize=True)\n",
    "print(accuracy_train)\n",
    "\n",
    "# -------------------------------"
   ]
  },
  {
   "cell_type": "code",
   "execution_count": 8,
   "metadata": {},
   "outputs": [
    {
     "name": "stdout",
     "output_type": "stream",
     "text": [
      "0.9720670391061452\n"
     ]
    }
   ],
   "source": [
    "# XXX\n",
    "# TODO: Test its accuracy (on the testing set) using the accuracy_score method.\n",
    "# Note: Round the output values greater than or equal to 0.5 to 1 and those less than 0.5 to 0. You can use any method that satisfies the requriements.\n",
    "# XXX\n",
    "\n",
    "# -------------------------------\n",
    "# ADD CODE HERE\n",
    "vfunc = np.vectorize(lambda x: 1 if x>=0.5 else 0)\n",
    "lr_pred_test=vfunc(lr_pred_test)\n",
    "accuracy_test=accuracy_score(y_test,lr_pred_test)\n",
    "\n",
    "\n",
    "print(accuracy_test)\n",
    "\n",
    "# -------------------------------"
   ]
  },
  {
   "cell_type": "markdown",
   "metadata": {},
   "source": [
    "# Random Forest Classifier"
   ]
  },
  {
   "cell_type": "code",
   "execution_count": 9,
   "metadata": {},
   "outputs": [],
   "source": [
    "# XXX\n",
    "# TODO: Create a RandomForestClassifier and train it.\n",
    "# WARNING: Ignore \"FutureWarning: The default value of n_estimators will change from 10 in version 0.20 to 100 in 0.22.\"10 in version 0.20 to 100 in 0.22.\"\n",
    "# XXX\n",
    "\n",
    "# -------------------------------\n",
    "# ADD CODE HERE\n",
    "rand_for= RandomForestClassifier(n_estimators=100,random_state=random_state)\n",
    "rand_for.fit(x_train,y_train)\n",
    "\n",
    "rand_pred_train=rand_for.predict(x_train)\n",
    "rand_pred_test=rand_for.predict(x_test)\n",
    "\n",
    "# -------------------------------"
   ]
  },
  {
   "cell_type": "code",
   "execution_count": 10,
   "metadata": {},
   "outputs": [
    {
     "name": "stdout",
     "output_type": "stream",
     "text": [
      "1.0\n"
     ]
    }
   ],
   "source": [
    "# XXX\n",
    "# TODO: Test its accuracy on the training set using the accuracy_score method.\n",
    "# XXX\n",
    "\n",
    "# -------------------------------\n",
    "# ADD CODE HERE\n",
    "vfunc = np.vectorize(lambda x: 1 if x>=0.5 else 0)\n",
    "rand_pred_train=vfunc(rand_pred_train)\n",
    "\n",
    "\n",
    "accuracy_train_r=accuracy_score(y_train,rand_pred_train,normalize=True)\n",
    "print(accuracy_train_r)\n",
    "\n",
    "# -------------------------------\n"
   ]
  },
  {
   "cell_type": "code",
   "execution_count": 11,
   "metadata": {},
   "outputs": [
    {
     "name": "stdout",
     "output_type": "stream",
     "text": [
      "0.9817504655493482\n"
     ]
    }
   ],
   "source": [
    "# XXX\n",
    "# TODO: Test its accuracy on the test set using the accuracy_score method.\n",
    "# XXX\n",
    "\n",
    "# -------------------------------\n",
    "# ADD CODE HERE\n",
    "rand_pred_test=vfunc(rand_pred_test)\n",
    "accuracy_test_r=accuracy_score(y_test,rand_pred_test)\n",
    "\n",
    "\n",
    "print(accuracy_test_r)\n",
    "\n",
    "# -------------------------------\n"
   ]
  },
  {
   "cell_type": "markdown",
   "metadata": {},
   "source": [
    "## Feature Importance"
   ]
  },
  {
   "cell_type": "code",
   "execution_count": 12,
   "metadata": {},
   "outputs": [
    {
     "name": "stdout",
     "output_type": "stream",
     "text": [
      "[0.1809442  0.0491881  0.33429017 0.21197966 0.05940259 0.06157055\n",
      " 0.05285945 0.04976529]\n"
     ]
    }
   ],
   "source": [
    "# XXX\n",
    "# TODO: Determine and print the feature importance as evaluated by the Random Forest Classifier.\n",
    "# XXX\n",
    "\n",
    "# -------------------------------\n",
    "# ADD CODE HERE\n",
    "x=rand_for.feature_importances_\n",
    "print(x)\n",
    "\n",
    "# -------------------------------"
   ]
  },
  {
   "cell_type": "code",
   "execution_count": 13,
   "metadata": {},
   "outputs": [
    {
     "name": "stdout",
     "output_type": "stream",
     "text": [
      "[2 3 0 5 4 6 7 1]\n"
     ]
    }
   ],
   "source": [
    "# XXX\n",
    "# TODO: Sort them in the descending order and print the feature numbers[0 to ...].\n",
    "#       Hint: There is a direct function available in sklearn to achieve this. Also checkout argsort() function in Python.\n",
    "# XXX\n",
    "\n",
    "# -------------------------------\n",
    "# ADD CODE HERE\n",
    "print(x.argsort()[::-1])\n",
    "\n",
    "# -------------------------------"
   ]
  },
  {
   "cell_type": "markdown",
   "metadata": {},
   "source": [
    "## Hyper-parameter Tuning"
   ]
  },
  {
   "cell_type": "code",
   "execution_count": 14,
   "metadata": {},
   "outputs": [],
   "source": [
    "# XXX\n",
    "# TODO: Tune the hyper-parameters 'n_estimators' and 'max_depth'.\n",
    "# XXX\n",
    "\n",
    "# -------------------------------\n",
    "# ADD CODE HERE\n",
    "n_esti = [80,85,90,95,100]\n",
    "max_d=[6,7,8,9,10,11,12]\n",
    "\n",
    "\n",
    "param_grid = dict(n_estimators=n_esti,\n",
    "                  max_depth=max_d)\n",
    "\n",
    "grid = GridSearchCV(estimator=RandomForestClassifier(random_state=100),\n",
    "                    param_grid=param_grid,\n",
    "                    scoring='roc_auc',cv = 10,n_jobs=5)\n",
    "grid_result = grid.fit(x_train, y_train)\n",
    "\n",
    "\n",
    "# -------------------------------"
   ]
  },
  {
   "cell_type": "code",
   "execution_count": 15,
   "metadata": {},
   "outputs": [
    {
     "name": "stdout",
     "output_type": "stream",
     "text": [
      "Best Params:  {'max_depth': 8, 'n_estimators': 90}\n"
     ]
    }
   ],
   "source": [
    "# XXX\n",
    "# TODO: Print the best params, using .best_params_\n",
    "# XXX\n",
    "\n",
    "# -------------------------------\n",
    "# ADD CODE HERE\n",
    "print('Best Params: ', grid_result.best_params_)\n",
    "\n",
    "# -------------------------------\n"
   ]
  },
  {
   "cell_type": "code",
   "execution_count": 16,
   "metadata": {},
   "outputs": [
    {
     "name": "stdout",
     "output_type": "stream",
     "text": [
      "Best Score:  0.9747116854681365\n"
     ]
    }
   ],
   "source": [
    "# XXX\n",
    "# TODO: Print the best score, using .best_score_.\n",
    "# XXX\n",
    "\n",
    "# -------------------------------\n",
    "# ADD CODE HERE\n",
    "print('Best Score: ', grid_result.best_score_)\n",
    "\n",
    "# -------------------------------\n"
   ]
  },
  {
   "cell_type": "markdown",
   "metadata": {},
   "source": [
    "# Support Vector Machine"
   ]
  },
  {
   "cell_type": "markdown",
   "metadata": {},
   "source": [
    "## Pre-process"
   ]
  },
  {
   "cell_type": "code",
   "execution_count": 17,
   "metadata": {},
   "outputs": [],
   "source": [
    "# XXX\n",
    "# TODO: Pre-process the data to standardize or normalize it, otherwise the grid search will take much longer.\n",
    "# Warning: Ignore \"FutureWarning: The default value of gamma will change from 'auto' to 'scale' in version 0.22 to account better for unscaled features. Set gamma explicitly to 'auto' or 'scale' to avoid this warning\"\n",
    "# XXX\n",
    "\n",
    "# -------------------------------\n",
    "# ADD CODE HERE\n",
    "scaler = StandardScaler()\n",
    "x_train_n = scaler.fit_transform(x_train)\n",
    "x_test_n = scaler.fit_transform(x_test)\n",
    "\n",
    "\n",
    "# -------------------------------\n"
   ]
  },
  {
   "cell_type": "code",
   "execution_count": 18,
   "metadata": {},
   "outputs": [],
   "source": [
    "# XXX\n",
    "# TODO: Create a SVC classifier and train it.\n",
    "# XXX\n",
    "\n",
    "# -------------------------------\n",
    "# ADD CODE HERE\n",
    "svclassifier = SVC(random_state=random_state)\n",
    "svclassifier.fit(x_train_n, y_train)\n",
    "\n",
    "\n",
    "\n",
    "# -------------------------------\n"
   ]
  },
  {
   "cell_type": "code",
   "execution_count": 19,
   "metadata": {},
   "outputs": [
    {
     "name": "stdout",
     "output_type": "stream",
     "text": [
      "0.978448275862069\n"
     ]
    }
   ],
   "source": [
    "# XXX\n",
    "# TODO: Test its accuracy on the training set using the accuracy_score method.\n",
    "# XXX\n",
    "# WARNING: Ignore \"FutureWarning: The default value of gamma will change from 'auto' to 'scale' in version 0.22 to account better for unscaled features. Set gamma explicitly to 'auto' or 'scale' to avoid this warning.\"\"\n",
    "\n",
    "# -------------------------------\n",
    "# ADD CODE HERE\n",
    "\n",
    "y_train_predict_sv = svclassifier.predict(x_train_n)\n",
    "y_train_predict_sv=vfunc(y_train_predict_sv)\n",
    "\n",
    "accuracy_train_s=accuracy_score(y_train,y_train_predict_sv)\n",
    "print(accuracy_train_s)\n",
    "\n",
    "# -------------------------------\n"
   ]
  },
  {
   "cell_type": "code",
   "execution_count": 20,
   "metadata": {},
   "outputs": [
    {
     "name": "stdout",
     "output_type": "stream",
     "text": [
      "0.9798882681564246\n"
     ]
    }
   ],
   "source": [
    "# XXX\n",
    "# TODO: Test its accuracy on the test set using the accuracy_score method.\n",
    "# XXX\n",
    "# WARNING: Ignore \"FutureWarning: The default value of gamma will change from 'auto' to 'scale' in version 0.22 to account better for unscaled features. Set gamma explicitly to 'auto' or 'scale' to avoid this warning.\"\"\n",
    "\n",
    "# -------------------------------\n",
    "# ADD CODE HERE\n",
    "\n",
    "y_predict_sv = svclassifier.predict(x_test_n)\n",
    "y_predict_sv=vfunc(y_predict_sv)\n",
    "\n",
    "accuracy_test_s=accuracy_score(y_test,y_predict_sv)\n",
    "print(accuracy_test_s)\n",
    "\n",
    "# -------------------------------"
   ]
  },
  {
   "cell_type": "markdown",
   "metadata": {},
   "source": [
    "## Hyper-parameter Tuning"
   ]
  },
  {
   "cell_type": "code",
   "execution_count": 22,
   "metadata": {},
   "outputs": [
    {
     "name": "stdout",
     "output_type": "stream",
     "text": [
      "{'C': 1, 'kernel': 'linear'}\n"
     ]
    }
   ],
   "source": [
    "# XXX\n",
    "# TODO: Tune the hyper-parameters 'C' and 'kernel' (use rbf and linear).\n",
    "# XXX\n",
    "\n",
    "# -------------------------------\n",
    "# ADD CODE HERE\n",
    "\n",
    "svmTunePram = {'kernel':['linear', 'rbf'], 'C':[0.01, 0.1, 1]}\n",
    "svm_model2 = GridSearchCV(SVC(), svmTunePram, cv=10,n_jobs=5)\n",
    "svm_model2.fit(x_train_n, y_train)\n",
    "print(svm_model2.best_params_)\n",
    "\n",
    "# -------------------------------"
   ]
  },
  {
   "cell_type": "code",
   "execution_count": 23,
   "metadata": {},
   "outputs": [
    {
     "name": "stdout",
     "output_type": "stream",
     "text": [
      "0.977889527458493\n"
     ]
    }
   ],
   "source": [
    "# XXX\n",
    "# TODO: Print the best score, using .best_score_.\n",
    "# XXX\n",
    "\n",
    "# -------------------------------\n",
    "# ADD CODE HERE\n",
    "print(svm_model2.best_score_)\n",
    "\n",
    "# -------------------------------"
   ]
  },
  {
   "cell_type": "markdown",
   "metadata": {},
   "source": [
    "# Support Vector Machine"
   ]
  },
  {
   "cell_type": "code",
   "execution_count": 24,
   "metadata": {},
   "outputs": [],
   "source": [
    "# XXX\n",
    "# TODO: Calculate the training and test set accuracy values after hyperparameter tuning and normalization. \n",
    "# XXX\n",
    "\n",
    "# -------------------------------\n",
    "# ADD CODE HERE\n",
    "y_train_predict_sv = svm_model2.predict(x_train_n)\n",
    "\n",
    "y_predict_sv = svm_model2.predict(x_test_n)\n",
    "\n",
    "\n",
    "# -------------------------------"
   ]
  },
  {
   "cell_type": "code",
   "execution_count": 25,
   "metadata": {},
   "outputs": [
    {
     "name": "stdout",
     "output_type": "stream",
     "text": [
      "0.9782088122605364\n"
     ]
    }
   ],
   "source": [
    "# XXX\n",
    "# TODO: Test its accuracy (on the training set) using the accuracy_score method. Print the result\n",
    "# XXX\n",
    "\n",
    "# -------------------------------\n",
    "# ADD CODE HERE\n",
    "y_train_predict_sv=vfunc(y_train_predict_sv)\n",
    "\n",
    "accuracy_train_s=accuracy_score(y_train,y_train_predict_sv)\n",
    "print(accuracy_train_s)\n",
    "\n",
    "# -------------------------------"
   ]
  },
  {
   "cell_type": "code",
   "execution_count": 26,
   "metadata": {},
   "outputs": [
    {
     "name": "stdout",
     "output_type": "stream",
     "text": [
      "0.9804469273743017\n"
     ]
    }
   ],
   "source": [
    "# XXX\n",
    "# TODO: Test its accuracy (on the testing set) using the accuracy_score method. Print the result\n",
    "# XXX\n",
    "\n",
    "# -------------------------------\n",
    "# ADD CODE HERE\n",
    "y_predict_sv=vfunc(y_predict_sv)\n",
    "\n",
    "accuracy_test_s=accuracy_score(y_test,y_predict_sv)\n",
    "print(accuracy_test_s)\n",
    "\n",
    "# -------------------------------"
   ]
  },
  {
   "cell_type": "code",
   "execution_count": 27,
   "metadata": {},
   "outputs": [
    {
     "name": "stdout",
     "output_type": "stream",
     "text": [
      "{'mean_fit_time': array([0.67797687, 2.40306134, 0.72724805, 1.40556223, 1.14311948,\n",
      "       1.26234002]), 'std_fit_time': array([0.02456341, 0.04791068, 0.01713498, 0.02398581, 0.13888114,\n",
      "       0.04370688]), 'mean_score_time': array([0.03887315, 0.17454095, 0.03570464, 0.08616748, 0.03263927,\n",
      "       0.07498951]), 'std_score_time': array([0.00465463, 0.02185352, 0.00802523, 0.00934389, 0.00755116,\n",
      "       0.01183345]), 'param_C': masked_array(data=[0.01, 0.01, 0.1, 0.1, 1, 1],\n",
      "             mask=[False, False, False, False, False, False],\n",
      "       fill_value='?',\n",
      "            dtype=object), 'param_kernel': masked_array(data=['linear', 'rbf', 'linear', 'rbf', 'linear', 'rbf'],\n",
      "             mask=[False, False, False, False, False, False],\n",
      "       fill_value='?',\n",
      "            dtype=object), 'params': [{'C': 0.01, 'kernel': 'linear'}, {'C': 0.01, 'kernel': 'rbf'}, {'C': 0.1, 'kernel': 'linear'}, {'C': 0.1, 'kernel': 'rbf'}, {'C': 1, 'kernel': 'linear'}, {'C': 1, 'kernel': 'rbf'}], 'split0_test_score': array([0.97527911, 0.96810207, 0.976874  , 0.976874  , 0.9784689 ,\n",
      "       0.9784689 ]), 'split1_test_score': array([0.98086124, 0.97448166, 0.98564593, 0.98484848, 0.98564593,\n",
      "       0.98564593]), 'split2_test_score': array([0.97129187, 0.96570973, 0.97448166, 0.96969697, 0.97607656,\n",
      "       0.97129187]), 'split3_test_score': array([0.97446129, 0.9688747 , 0.97685555, 0.97605746, 0.97765363,\n",
      "       0.97685555]), 'split4_test_score': array([0.97206704, 0.96727853, 0.97685555, 0.97446129, 0.97685555,\n",
      "       0.98084597]), 'split5_test_score': array([0.96565495, 0.95926518, 0.96884984, 0.96565495, 0.97044728,\n",
      "       0.96884984]), 'split6_test_score': array([0.97763578, 0.97204473, 0.98083067, 0.98083067, 0.98242812,\n",
      "       0.98083067]), 'split7_test_score': array([0.97204473, 0.96805112, 0.97284345, 0.97364217, 0.97204473,\n",
      "       0.97284345]), 'split8_test_score': array([0.97763578, 0.97044728, 0.98242812, 0.98083067, 0.98322684,\n",
      "       0.98402556]), 'split9_test_score': array([0.97444089, 0.96964856, 0.97603834, 0.97444089, 0.97603834,\n",
      "       0.97603834]), 'mean_test_score': array([0.97413793, 0.9683908 , 0.97717114, 0.97573436, 0.97788953,\n",
      "       0.97757024]), 'std_test_score': array([0.00399864, 0.00385193, 0.00457842, 0.00531173, 0.00454908,\n",
      "       0.0051935 ]), 'rank_test_score': array([5, 6, 3, 4, 1, 2]), 'split0_train_score': array([0.9738336 , 0.96860032, 0.97755899, 0.97613979, 0.97844598,\n",
      "       0.97844598]), 'split1_train_score': array([0.973124  , 0.96789072, 0.97658329, 0.97516409, 0.97702679,\n",
      "       0.97773638]), 'split2_train_score': array([0.9748093 , 0.96913252, 0.97800248, 0.97755899, 0.97871208,\n",
      "       0.97897818]), 'split3_train_score': array([0.974102  , 0.96851441, 0.97738359, 0.97605322, 0.97844789,\n",
      "       0.97853659]), 'split4_train_score': array([0.97392461, 0.96851441, 0.97764967, 0.97605322, 0.9783592 ,\n",
      "       0.97809313]), 'split5_train_score': array([0.9751685 , 0.96984746, 0.97853849, 0.97747428, 0.97924796,\n",
      "       0.97933664]), 'split6_train_score': array([0.97357219, 0.96789642, 0.97720823, 0.97561192, 0.97765165,\n",
      "       0.97836112]), 'split7_train_score': array([0.97410429, 0.96896062, 0.9779177 , 0.97605534, 0.97907059,\n",
      "       0.97898191]), 'split8_train_score': array([0.97366087, 0.9679851 , 0.97685349, 0.97561192, 0.97774033,\n",
      "       0.97836112]), 'split9_train_score': array([0.97445903, 0.96896062, 0.97765165, 0.97667613, 0.9784498 ,\n",
      "       0.97871586]), 'mean_train_score': array([0.97407584, 0.96863026, 0.97753476, 0.97623989, 0.97831523,\n",
      "       0.97855469]), 'std_train_score': array([0.0005739 , 0.00059005, 0.00053844, 0.00074255, 0.00063904,\n",
      "       0.00044374])}\n"
     ]
    }
   ],
   "source": [
    "# XXX\n",
    "# TODO: Calculate the rank test score, mean testing score and mean fit time for the \n",
    "# all hyperparameter values that you obtained in Q3.2. The GridSearchCV \n",
    "# class holds a  ‘cv_results_’ dictionary that should help you report these metrics easily.\n",
    "# XXX\n",
    "\n",
    "# -------------------------------\n",
    "# ADD CODE HERE\n",
    "print(svm_model2.cv_results_)\n",
    "\n",
    "# -------------------------------"
   ]
  },
  {
   "cell_type": "code",
   "execution_count": 28,
   "metadata": {},
   "outputs": [
    {
     "name": "stdout",
     "output_type": "stream",
     "text": [
      "[5 6 3 4 1 2]\n"
     ]
    }
   ],
   "source": [
    "# XXX\n",
    "# TODO: Print the rank test score for all hyperparameter values that you obtained in Q3.2. The \n",
    "# GridSearchCV class holds a  ‘cv_results_’ dictionary that should help you report these metrics easily.\n",
    "# XXX\n",
    "\n",
    "# -------------------------------\n",
    "# ADD CODE HERE\n",
    "\n",
    "print(svm_model2.cv_results_['rank_test_score'])\n",
    "\n",
    "# -------------------------------"
   ]
  },
  {
   "cell_type": "code",
   "execution_count": 29,
   "metadata": {},
   "outputs": [
    {
     "name": "stdout",
     "output_type": "stream",
     "text": [
      "[0.97413793 0.9683908  0.97717114 0.97573436 0.97788953 0.97757024]\n"
     ]
    }
   ],
   "source": [
    "# XXX\n",
    "# TODO: Print mean testing score for all of hyperparameter values that you obtained in Q3.2. The \n",
    "# GridSearchCV class holds a  ‘cv_results_’ dictionary that should help you report these metrics easily.\n",
    "# XXX\n",
    "\n",
    "# -------------------------------\n",
    "# ADD CODE HERE\n",
    "\n",
    "print(svm_model2.cv_results_['mean_test_score'])\n",
    "\n",
    "# -------------------------------"
   ]
  },
  {
   "cell_type": "code",
   "execution_count": 30,
   "metadata": {},
   "outputs": [
    {
     "name": "stdout",
     "output_type": "stream",
     "text": [
      "[0.67797687 2.40306134 0.72724805 1.40556223 1.14311948 1.26234002]\n"
     ]
    }
   ],
   "source": [
    "# XXX\n",
    "# TODO: Print mean fit time for all of hyperparameter values that you obtained in Q3.2. The \n",
    "# GridSearchCV class holds a  ‘cv_results_’ dictionary that should help you report these metrics easily.\n",
    "# XXX\n",
    "\n",
    "# -------------------------------\n",
    "# ADD CODE HERE\n",
    "\n",
    "print(svm_model2.cv_results_['mean_fit_time'])\n",
    "\n",
    "# -------------------------------"
   ]
  },
  {
   "cell_type": "markdown",
   "metadata": {},
   "source": [
    "# PCA"
   ]
  },
  {
   "cell_type": "code",
   "execution_count": 31,
   "metadata": {},
   "outputs": [],
   "source": [
    "# XXX\n",
    "# TODO: Perform dimensionality reduction of the data using PCA.\n",
    "#       Set parameters n_component to 8 and svd_solver to 'full'. Keep other parameters at their default value.\n",
    "# XXX\n",
    "\n",
    "# -------------------------------\n",
    "# ADD CODE HERE\n",
    "from sklearn import decomposition as decom\n",
    "\n",
    "x_pca = StandardScaler().fit_transform(x_train)\n",
    "\n",
    "\n",
    "pca=decom.PCA(n_components=8,svd_solver='full')\n",
    "principal_components=pca.fit_transform(x_train)\n",
    "\n",
    "# -------------------------------"
   ]
  },
  {
   "cell_type": "code",
   "execution_count": 32,
   "metadata": {},
   "outputs": [
    {
     "name": "stdout",
     "output_type": "stream",
     "text": [
      "[8.71054855e-01 7.80404050e-02 4.12747422e-02 6.15520409e-03\n",
      " 2.45425694e-03 9.78533643e-04 3.91429289e-05 2.85984066e-06]\n"
     ]
    }
   ],
   "source": [
    "# XXX\n",
    "# TODO: Print Percentage of variance explained by each of the selected components\n",
    "# XXX\n",
    "\n",
    "# -------------------------------\n",
    "\n",
    "print(pca.explained_variance_ratio_)\n",
    "# -------------------------------"
   ]
  },
  {
   "cell_type": "code",
   "execution_count": 33,
   "metadata": {},
   "outputs": [
    {
     "name": "stdout",
     "output_type": "stream",
     "text": [
      "[11992.97512747  3589.74779466  2610.63625426  1008.15059028\n",
      "   636.59642313   401.9685368     80.39533321    21.73076915]\n"
     ]
    }
   ],
   "source": [
    "# XXX\n",
    "# TODO: The singular values corresponding to each of the selected components.\n",
    "# XXX\n",
    "\n",
    "# -------------------------------\n",
    "\n",
    "print(pca.singular_values_)\n",
    "# -------------------------------"
   ]
  },
  {
   "cell_type": "code",
   "execution_count": null,
   "metadata": {},
   "outputs": [],
   "source": []
  },
  {
   "cell_type": "code",
   "execution_count": null,
   "metadata": {},
   "outputs": [],
   "source": []
  }
 ],
 "metadata": {
  "kernelspec": {
   "display_name": "Python 3",
   "language": "python",
   "name": "python3"
  },
  "language_info": {
   "codemirror_mode": {
    "name": "ipython",
    "version": 3
   },
   "file_extension": ".py",
   "mimetype": "text/x-python",
   "name": "python",
   "nbconvert_exporter": "python",
   "pygments_lexer": "ipython3",
   "version": "3.7.1"
  }
 },
 "nbformat": 4,
 "nbformat_minor": 2
}
